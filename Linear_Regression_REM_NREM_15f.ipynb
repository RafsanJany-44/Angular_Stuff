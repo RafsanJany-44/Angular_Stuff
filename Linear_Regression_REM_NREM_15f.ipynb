{
  "nbformat": 4,
  "nbformat_minor": 0,
  "metadata": {
    "colab": {
      "name": "Linear_Regression.ipynb",
      "provenance": [],
      "authorship_tag": "ABX9TyPA4sYwJWgnDUgBhJBcaUAA",
      "include_colab_link": true
    },
    "kernelspec": {
      "name": "python3",
      "display_name": "Python 3"
    },
    "language_info": {
      "name": "python"
    }
  },
  "cells": [
    {
      "cell_type": "markdown",
      "metadata": {
        "id": "view-in-github",
        "colab_type": "text"
      },
      "source": [
        "<a href=\"https://colab.research.google.com/github/RafsanJany-44/Angular_Stuff/blob/main/Linear_Regression_REM_NREM_15f.ipynb\" target=\"_parent\"><img src=\"https://colab.research.google.com/assets/colab-badge.svg\" alt=\"Open In Colab\"/></a>"
      ]
    },
    {
      "cell_type": "code",
      "execution_count": 26,
      "metadata": {
        "id": "kgTBQIr7DOlc"
      },
      "outputs": [],
      "source": [
        "import numpy as np\n",
        "import pandas as pd\n",
        "import matplotlib.pyplot as plt\n"
      ]
    },
    {
      "cell_type": "code",
      "source": [
        "ds2=pd.read_csv(\"/content/REM_NREM_15f.csv\")\n",
        "print(ds2)"
      ],
      "metadata": {
        "colab": {
          "base_uri": "https://localhost:8080/"
        },
        "id": "wOs_Fc06DpPJ",
        "outputId": "002eb0d8-0253-4128-c06b-79e928c3108d"
      },
      "execution_count": 27,
      "outputs": [
        {
          "output_type": "stream",
          "name": "stdout",
          "text": [
            "      Sleep_Stage  PeakF_Beta_F4  ...  PeakF_Delta_F4  Spectral Edge_Alpha_C4\n",
            "0            NREM       14.36098  ...         0.74927                17.73268\n",
            "1            NREM       16.60878  ...         0.62439                18.98146\n",
            "2            NREM       14.98537  ...         0.37463                16.60878\n",
            "3            NREM       11.36390  ...         0.99902                16.10927\n",
            "4            NREM       15.98439  ...         2.87220                15.11024\n",
            "...           ...            ...  ...             ...                     ...\n",
            "89091        NREM       17.85756  ...         0.62439                20.10537\n",
            "89092        NREM       12.73756  ...         0.49951                17.73268\n",
            "89093        NREM       16.60878  ...         0.49951                16.85854\n",
            "89094        NREM       12.11317  ...         1.24878                15.48488\n",
            "89095        NREM       11.61366  ...         0.74927                15.11024\n",
            "\n",
            "[89096 rows x 16 columns]\n"
          ]
        }
      ]
    },
    {
      "cell_type": "code",
      "source": [
        "x=ds2.iloc[:,:-1].values\n",
        "y=ds2.iloc[:,1:].values"
      ],
      "metadata": {
        "id": "M4wYiYBZDpKj"
      },
      "execution_count": 28,
      "outputs": []
    },
    {
      "cell_type": "code",
      "source": [
        "print(x[:,0])"
      ],
      "metadata": {
        "colab": {
          "base_uri": "https://localhost:8080/"
        },
        "id": "YR4OIou1F2vp",
        "outputId": "75ba3486-d9d9-4c15-9c63-459a4a33edec"
      },
      "execution_count": 29,
      "outputs": [
        {
          "output_type": "stream",
          "name": "stdout",
          "text": [
            "['NREM' 'NREM' 'NREM' ... 'NREM' 'NREM' 'NREM']\n"
          ]
        }
      ]
    },
    {
      "cell_type": "code",
      "source": [
        "from sklearn.preprocessing import LabelEncoder\n",
        "labelencoder_X=LabelEncoder()\n",
        "x[:,0]=labelencoder_X.fit_transform(x[:,0])"
      ],
      "metadata": {
        "id": "-1ClIEwdDpEC"
      },
      "execution_count": 30,
      "outputs": []
    },
    {
      "cell_type": "code",
      "source": [
        "print(x)"
      ],
      "metadata": {
        "colab": {
          "base_uri": "https://localhost:8080/"
        },
        "id": "2hHuezVxGVNM",
        "outputId": "11c72417-5cb1-45b6-d34f-06a90ebe39ed"
      },
      "execution_count": 31,
      "outputs": [
        {
          "output_type": "stream",
          "name": "stdout",
          "text": [
            "[[0 14.36098 22.85268 ... 17.73268 48.07805 0.74927]\n",
            " [0 16.60878 20.48 ... 13.237070000000001 47.45366 0.62439]\n",
            " [0 14.985370000000001 14.985370000000001 ... 16.73366 47.70341 0.37463]\n",
            " ...\n",
            " [0 16.60878 15.98439 ... 16.60878 37.58829 0.49951]\n",
            " [0 12.11317 14.860489999999999 ... 12.11317 39.08683 1.24878]\n",
            " [0 11.613660000000001 12.86244 ... 11.613660000000001 36.58927 0.74927]]\n"
          ]
        }
      ]
    },
    {
      "cell_type": "code",
      "source": [
        "from sklearn.model_selection import train_test_split\n",
        "x_train,x_test,y_train,y_test=train_test_split(x,y,test_size=0.3,random_state=0)"
      ],
      "metadata": {
        "id": "cWix8LpMDpCS"
      },
      "execution_count": 32,
      "outputs": []
    },
    {
      "cell_type": "code",
      "source": [
        "from sklearn.linear_model import LinearRegression\n",
        "regressor=LinearRegression()\n",
        "regressor.fit(x_train,y_train)"
      ],
      "metadata": {
        "colab": {
          "base_uri": "https://localhost:8080/"
        },
        "id": "yPcjw62ZDo8s",
        "outputId": "bfb9b4a9-8809-4bea-93eb-d156b735330f"
      },
      "execution_count": 33,
      "outputs": [
        {
          "output_type": "execute_result",
          "data": {
            "text/plain": [
              "LinearRegression()"
            ]
          },
          "metadata": {},
          "execution_count": 33
        }
      ]
    },
    {
      "cell_type": "code",
      "source": [
        "y_pred=regressor.predict(x_test)"
      ],
      "metadata": {
        "id": "-snUqtYyDo48"
      },
      "execution_count": 34,
      "outputs": []
    },
    {
      "cell_type": "code",
      "source": [
        "print(y_pred)\n",
        "print(y_test)"
      ],
      "metadata": {
        "colab": {
          "base_uri": "https://localhost:8080/"
        },
        "id": "l8jOzOuYDoj7",
        "outputId": "b2ab1f83-40a4-4862-85e0-d987d869b2f2"
      },
      "execution_count": 35,
      "outputs": [
        {
          "output_type": "stream",
          "name": "stdout",
          "text": [
            "[[10.11512    11.3639     13.73659    ... 41.33463     1.37366\n",
            "  13.71599899]\n",
            " [11.86341    12.86244    11.73854    ... 39.33659     0.62439\n",
            "  13.66137556]\n",
            " [10.24       10.73951    10.98927    ... 37.83805     0.74927\n",
            "  12.50456689]\n",
            " ...\n",
            " [12.86244    13.73659    12.73756    ... 35.46537     1.62341\n",
            "  13.69422692]\n",
            " [49.95122    49.95122    29.47122    ... 49.95122     0.62439\n",
            "  49.39394618]\n",
            " [13.48683    13.48683    14.36098    ... 35.71512     0.62439\n",
            "  14.59137191]]\n",
            "[[10.11512 11.3639  13.73659 ... 41.33463  1.37366 13.23707]\n",
            " [11.86341 12.86244 11.73854 ... 39.33659  0.62439 13.61171]\n",
            " [10.24    10.73951 10.98927 ... 37.83805  0.74927 12.4878 ]\n",
            " ...\n",
            " [12.86244 13.73659 12.73756 ... 35.46537  1.62341 13.86146]\n",
            " [49.95122 49.95122 29.47122 ... 49.95122  0.62439 49.95122]\n",
            " [13.48683 13.48683 14.36098 ... 35.71512  0.62439 14.48585]]\n"
          ]
        }
      ]
    },
    {
      "cell_type": "code",
      "source": [
        ""
      ],
      "metadata": {
        "id": "T2pexcL8Dogi"
      },
      "execution_count": 35,
      "outputs": []
    },
    {
      "cell_type": "code",
      "source": [
        "plt.scatter(y_pred,y_test)\n",
        "plt.title(\"Predict Vs Actual\")\n",
        "plt.xlabel(\"Actual\")\n",
        "plt.ylabel(\"Predict\")\n",
        "plt.show()"
      ],
      "metadata": {
        "colab": {
          "base_uri": "https://localhost:8080/",
          "height": 294
        },
        "id": "LoyvnvGhDoWs",
        "outputId": "2ce3b1fc-60d7-46d0-bcda-35934e01f9c0"
      },
      "execution_count": 36,
      "outputs": [
        {
          "output_type": "display_data",
          "data": {
            "image/png": "[encoded data removed]",
            "text/plain": [
              "<Figure size 432x288 with 1 Axes>"
            ]
          },
          "metadata": {
            "needs_background": "light"
          }
        }
      ]
    },
    {
      "cell_type": "code",
      "source": [
        "from sklearn.metrics import r2_score\n",
        "score=r2_score(y_test,y_pred)\n",
        "print('r2 socre is' ,score)"
      ],
      "metadata": {
        "colab": {
          "base_uri": "https://localhost:8080/"
        },
        "id": "yOjoFWHLDoQ0",
        "outputId": "f4168cda-dca2-4db2-b9b1-b4df553e9a77"
      },
      "execution_count": 37,
      "outputs": [
        {
          "output_type": "stream",
          "name": "stdout",
          "text": [
            "r2 socre is 0.9981532502646718\n"
          ]
        }
      ]
    },
    {
      "cell_type": "code",
      "source": [
        ""
      ],
      "metadata": {
        "id": "FptCjC1PDoOt"
      },
      "execution_count": 37,
      "outputs": []
    },
    {
      "cell_type": "code",
      "source": [
        ""
      ],
      "metadata": {
        "id": "HIzLp145DoIE"
      },
      "execution_count": 37,
      "outputs": []
    },
    {
      "cell_type": "code",
      "source": [
        ""
      ],
      "metadata": {
        "id": "H20NB1uIDoFW"
      },
      "execution_count": 37,
      "outputs": []
    },
    {
      "cell_type": "code",
      "source": [
        ""
      ],
      "metadata": {
        "id": "u5q7wZApDoBv"
      },
      "execution_count": 37,
      "outputs": []
    },
    {
      "cell_type": "code",
      "source": [
        ""
      ],
      "metadata": {
        "id": "vGHuQj7PDn2R"
      },
      "execution_count": 37,
      "outputs": []
    },
    {
      "cell_type": "code",
      "source": [
        ""
      ],
      "metadata": {
        "id": "7be7xEGSDnqn"
      },
      "execution_count": 37,
      "outputs": []
    }
  ]
}