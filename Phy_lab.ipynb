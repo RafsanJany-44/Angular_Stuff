{
  "nbformat": 4,
  "nbformat_minor": 0,
  "metadata": {
    "colab": {
      "name": "Phy_lab.ipynb",
      "provenance": [],
      "collapsed_sections": [],
      "authorship_tag": "ABX9TyPf0qe0vMYL9v3mhn8MEoHm",
      "include_colab_link": true
    },
    "kernelspec": {
      "name": "python3",
      "display_name": "Python 3"
    },
    "language_info": {
      "name": "python"
    }
  },
  "cells": [
    {
      "cell_type": "markdown",
      "metadata": {
        "id": "view-in-github",
        "colab_type": "text"
      },
      "source": [
        "<a href=\"https://colab.research.google.com/github/RafsanJany-44/Angular_Stuff/blob/main/Phy_lab.ipynb\" target=\"_parent\"><img src=\"https://colab.research.google.com/assets/colab-badge.svg\" alt=\"Open In Colab\"/></a>"
      ]
    },
    {
      "cell_type": "code",
      "metadata": {
        "id": "8xVIOmYQAyIt"
      },
      "source": [
        "En=[1,2,5,10,15,20,25]"
      ],
      "execution_count": null,
      "outputs": []
    },
    {
      "cell_type": "markdown",
      "metadata": {
        "id": "jVo7AvqaxdFD"
      },
      "source": [
        "R1"
      ]
    },
    {
      "cell_type": "code",
      "metadata": {
        "id": "DlvGCH1Iv9na"
      },
      "source": [
        "Em1=[1.03,2.04,5.02,10.02,15.02,20.08,25.09]\n",
        "Im1=[0.47,0.94,2.31,4.62,6.96,9.33,11.75]\n",
        "Rm1=2.16\n",
        "Rn=2.2"
      ],
      "execution_count": null,
      "outputs": []
    },
    {
      "cell_type": "markdown",
      "metadata": {
        "id": "IMM0JeX1ymg3"
      },
      "source": [
        "R2"
      ]
    },
    {
      "cell_type": "code",
      "metadata": {
        "id": "qJCQ2tBgxe3H"
      },
      "source": [
        "Em2=[1.00,2.02,5.00,9.97,15.02,20.06,25.06]\n",
        "Im2=[0.21,0.42,1.07,2.12,3.21,4.27,5.36]\n",
        "Rm2=4.67\n",
        "Rn2=4.7"
      ],
      "execution_count": null,
      "outputs": []
    },
    {
      "cell_type": "markdown",
      "metadata": {
        "id": "XyywNiVozHpP"
      },
      "source": [
        "R3"
      ]
    },
    {
      "cell_type": "code",
      "metadata": {
        "id": "ZLy6fg8SyqEP"
      },
      "source": [
        "Em3=[1.00,2.03,4.96,9.97,15.04,20.04,25.01]\n",
        "Im3=[0.10,0.20,0.51,1.02,1.52,2.04,2.55]\n",
        "Rm3=9.82\n",
        "Rn3=10"
      ],
      "execution_count": null,
      "outputs": []
    },
    {
      "cell_type": "code",
      "metadata": {
        "id": "daQ2JGfAzSiQ"
      },
      "source": [
        "def i_calculate(resistence,E):\n",
        "  I=[]\n",
        "  for e in E:\n",
        "    i=\"{:.2f}\".format((e/(resistence*1000))*1000)\n",
        "    I.append(i+\"mA\")\n",
        "  \n",
        "  return I"
      ],
      "execution_count": null,
      "outputs": []
    },
    {
      "cell_type": "code",
      "metadata": {
        "colab": {
          "base_uri": "https://localhost:8080/"
        },
        "id": "AoeHr8l6zU5l",
        "outputId": "435f94b7-3e2e-42ae-899b-5e99e8a2673a"
      },
      "source": [
        "print(*i_calculate(Rn,En),sep='\\n')"
      ],
      "execution_count": null,
      "outputs": [
        {
          "output_type": "stream",
          "name": "stdout",
          "text": [
            "0.45mA\n",
            "0.91mA\n",
            "2.27mA\n",
            "4.55mA\n",
            "6.82mA\n",
            "9.09mA\n",
            "11.36mA\n"
          ]
        }
      ]
    },
    {
      "cell_type": "code",
      "metadata": {
        "colab": {
          "base_uri": "https://localhost:8080/"
        },
        "id": "BAH2pb-IGnll",
        "outputId": "740bac73-c6bf-49da-f7da-ae0705a9a14e"
      },
      "source": [
        "print(*i_calculate(Rn2,En),sep='\\n')"
      ],
      "execution_count": null,
      "outputs": [
        {
          "output_type": "stream",
          "name": "stdout",
          "text": [
            "0.21mA\n",
            "0.43mA\n",
            "1.06mA\n",
            "2.13mA\n",
            "3.19mA\n",
            "4.26mA\n",
            "5.32mA\n"
          ]
        }
      ]
    },
    {
      "cell_type": "code",
      "metadata": {
        "colab": {
          "base_uri": "https://localhost:8080/"
        },
        "id": "vtqKAhS1G2ry",
        "outputId": "33e537d7-33ab-4aaf-82ba-87d3048ffc5c"
      },
      "source": [
        "print(*i_calculate(Rn3,En),sep='\\n')"
      ],
      "execution_count": null,
      "outputs": [
        {
          "output_type": "stream",
          "name": "stdout",
          "text": [
            "0.10mA\n",
            "0.20mA\n",
            "0.50mA\n",
            "1.00mA\n",
            "1.50mA\n",
            "2.00mA\n",
            "2.50mA\n"
          ]
        }
      ]
    },
    {
      "cell_type": "code",
      "metadata": {
        "id": "W0gVa7oKLIKi"
      },
      "source": [
        "def show_graph(x,y):\n",
        "  import matplotlib.pyplot as plt\n",
        "  import numpy as np\n",
        "\n",
        "  xpoints = np.array(x)\n",
        "  ypoints = np.array(y)\n",
        "\n",
        "  plt.plot(xpoints, ypoints)\n",
        "  plt.plot(xpoints, ypoints, 'o')\n",
        "  \n",
        "  plt.grid()\n",
        "  plt.show()"
      ],
      "execution_count": null,
      "outputs": []
    },
    {
      "cell_type": "code",
      "metadata": {
        "colab": {
          "base_uri": "https://localhost:8080/",
          "height": 265
        },
        "id": "RA5j9NwsLYxh",
        "outputId": "45a81da7-6d9d-4c47-babc-620ad6de7574"
      },
      "source": [
        "show_graph(Em3,Im3)"
      ],
      "execution_count": null,
      "outputs": [
        {
          "output_type": "display_data",
          "data": {
            "image/png": "[encoded data removed]",
            "text/plain": [
              "<Figure size 432x288 with 1 Axes>"
            ]
          },
          "metadata": {
            "needs_background": "light"
          }
        }
      ]
    },
    {
      "cell_type": "code",
      "metadata": {
        "id": "-byetuqFO1qL"
      },
      "source": [
        "def slpoe(x1,y1,x2,y2):\n",
        "  return((y2-y1)/(x2-x1))"
      ],
      "execution_count": null,
      "outputs": []
    },
    {
      "cell_type": "code",
      "metadata": {
        "colab": {
          "base_uri": "https://localhost:8080/"
        },
        "id": "uRzRII6OQ9dJ",
        "outputId": "44f9d733-7694-469d-d181-46bb55fc32b9"
      },
      "source": [
        "print(slpoe(8.2,4,17,8))"
      ],
      "execution_count": null,
      "outputs": [
        {
          "output_type": "stream",
          "name": "stdout",
          "text": [
            "0.45454545454545453\n"
          ]
        }
      ]
    },
    {
      "cell_type": "code",
      "metadata": {
        "id": "ACCXknc0Sjao"
      },
      "source": [
        "def error(th,ex):\n",
        "  ret=abs((th-ex)/th)*100\n",
        "  return ret"
      ],
      "execution_count": null,
      "outputs": []
    },
    {
      "cell_type": "code",
      "metadata": {
        "colab": {
          "base_uri": "https://localhost:8080/"
        },
        "id": "AiaEuDanS0zo",
        "outputId": "a20bc5a0-8298-48db-b43b-928cfe6ea31e"
      },
      "source": [
        "print(error(5.6,5.5))"
      ],
      "execution_count": null,
      "outputs": [
        {
          "output_type": "stream",
          "name": "stdout",
          "text": [
            "1.7857142857142794\n"
          ]
        }
      ]
    },
    {
      "cell_type": "code",
      "metadata": {
        "colab": {
          "base_uri": "https://localhost:8080/"
        },
        "id": "fMAkplUvVW2g",
        "outputId": "4602db1e-91a0-4d6b-8ed2-af406c0a6e3e"
      },
      "source": [
        "print(error(2.6,2.56))"
      ],
      "execution_count": null,
      "outputs": [
        {
          "output_type": "stream",
          "name": "stdout",
          "text": [
            "1.5384615384615397\n"
          ]
        }
      ]
    },
    {
      "cell_type": "code",
      "metadata": {
        "colab": {
          "base_uri": "https://localhost:8080/"
        },
        "id": "I-5xJZhSVpPu",
        "outputId": "27f6858a-f446-4f3b-9898-f19cb4d18e2c"
      },
      "source": [
        "print(error(1.2,1.221))"
      ],
      "execution_count": null,
      "outputs": [
        {
          "output_type": "stream",
          "name": "stdout",
          "text": [
            "1.7500000000000109\n"
          ]
        }
      ]
    },
    {
      "cell_type": "code",
      "metadata": {
        "id": "2bZmqsGYVw5O"
      },
      "source": [
        ""
      ],
      "execution_count": null,
      "outputs": []
    },
    {
      "cell_type": "markdown",
      "metadata": {
        "id": "tU9R5YZ7eCcB"
      },
      "source": [
        "---------------------------------------------------------------"
      ]
    },
    {
      "cell_type": "markdown",
      "metadata": {
        "id": "Zsgo9F2kd4uP"
      },
      "source": [
        "#LAB 2"
      ]
    },
    {
      "cell_type": "code",
      "metadata": {
        "id": "xbW2Xp9kiIAm"
      },
      "source": [
        "def printF(Data,Point):\n",
        "  for i in Data:\n",
        "    print(\"{:.15f}\".format((i)))\n",
        "    \n"
      ],
      "execution_count": null,
      "outputs": []
    },
    {
      "cell_type": "code",
      "metadata": {
        "id": "DBHGAacBlHPS"
      },
      "source": [
        "def show_graph(x,y):\n",
        "  import matplotlib.pyplot as plt\n",
        "  import numpy as np\n",
        "\n",
        "  xpoints = np.array(x)\n",
        "  ypoints = np.array(y)\n",
        "\n",
        "  plt.plot(xpoints, ypoints)\n",
        "  plt.plot(xpoints, ypoints, 'o')\n",
        "  \n",
        "  plt.grid()\n",
        "  plt.show()"
      ],
      "execution_count": null,
      "outputs": []
    },
    {
      "cell_type": "code",
      "metadata": {
        "id": "es-pUP_geHdE"
      },
      "source": [
        "import math as m\n",
        "def V_Charging(V0,R,C,T):\n",
        "  voltage=[]\n",
        "  for t in T:\n",
        "    voltage.append(V0*(1-m.exp(-((t/1e6)/(R*C)))))\n",
        "  return voltage\n",
        "\n",
        "def V_Discharging(V0,R,C,T):\n",
        "  voltage=[]\n",
        "  for t in T:\n",
        "    voltage.append(V0*(m.exp(-((t/1e6)/(R*C)))))\n",
        "  return voltage"
      ],
      "execution_count": null,
      "outputs": []
    },
    {
      "cell_type": "code",
      "metadata": {
        "id": "qG-zoiUXfQKg"
      },
      "source": [
        "R=10\n",
        "C=20\n",
        "T=[100,200,300,1200]\n",
        "V0=100"
      ],
      "execution_count": null,
      "outputs": []
    },
    {
      "cell_type": "code",
      "metadata": {
        "colab": {
          "base_uri": "https://localhost:8080/"
        },
        "id": "U68DD-f-fx08",
        "outputId": "abaaba94-924a-4109-ba8a-2eaae3214d0d"
      },
      "source": [
        "printF(V_Charging(V0,R,C,T),15)"
      ],
      "execution_count": null,
      "outputs": [
        {
          "output_type": "stream",
          "name": "stdout",
          "text": [
            "0.000049999987495\n",
            "0.000099999949998\n",
            "0.000149999887500\n",
            "0.000599998200002\n"
          ]
        }
      ]
    },
    {
      "cell_type": "code",
      "metadata": {
        "id": "GUNHBQl7hOkw"
      },
      "source": [
        ""
      ],
      "execution_count": null,
      "outputs": []
    },
    {
      "cell_type": "markdown",
      "metadata": {
        "id": "JaoeJklEIO9m"
      },
      "source": [
        "----------------------------------------------------------------------"
      ]
    },
    {
      "cell_type": "markdown",
      "metadata": {
        "id": "riFaNTACIH_I"
      },
      "source": [
        "#LAB 3\n"
      ]
    },
    {
      "cell_type": "code",
      "metadata": {
        "id": "qA1TWQyTJ1jg"
      },
      "source": [
        "f=[1000,2000,5000,10000,15000,20000,25000,30000]\n",
        "R=1000\n",
        "C=0.1/(1e6)\n",
        "V0=4\n",
        "Input_T=[]\n",
        "Output_T=[]\n"
      ],
      "execution_count": 15,
      "outputs": []
    },
    {
      "cell_type": "code",
      "metadata": {
        "id": "iJeMFACUIMy7"
      },
      "source": [
        "import math as m\n",
        "\n",
        "def Capacitor_Resistence(f,C):\n",
        "  XC=[]\n",
        "  for i in f:\n",
        "    x=1/(2*3.141592653589793*i*C)\n",
        "    XC.append(x)\n",
        "  return XC\n",
        "\n",
        "\n",
        "\n",
        "\n",
        "def inductor_Resistence(f,L):\n",
        "  XL=[]\n",
        "  for i in f:\n",
        "    x=2*3.141592653589793*i*L\n",
        "    XL.append(x)\n",
        "  return XL\n",
        "\n",
        "\n",
        "\n",
        "def Time_difference(Input_T,Output_T):\n",
        "  dt=[]\n",
        "  j=0\n",
        "  for i in Input_T:\n",
        "    dt.append(Output_T[j]-i)\n",
        "    j+=1\n",
        "  return dt\n",
        "\n",
        "\n",
        "\n",
        "def Phase_Shift_M(T,dt):\n",
        "  Q=[]\n",
        "  for t in T:\n",
        "    q=(dt/T)*360\n",
        "    Q.append(q)\n",
        "  return Q\n",
        "\n",
        "\n",
        "def Phase_Shift_C(R,XL):\n",
        "  Q=[]\n",
        "  for t in XL:\n",
        "    q=m.atan(R/t)\n",
        "    Q.append(q)\n",
        "  return Q\n",
        "\n",
        "\n",
        "\n"
      ],
      "execution_count": 16,
      "outputs": []
    },
    {
      "cell_type": "code",
      "metadata": {
        "id": "xGlb2LbTL-Ci"
      },
      "source": [
        ""
      ],
      "execution_count": null,
      "outputs": []
    }
  ]
}