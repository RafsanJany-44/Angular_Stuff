{
  "nbformat": 4,
  "nbformat_minor": 0,
  "metadata": {
    "colab": {
      "name": "Bracu_01022022.ipynb",
      "provenance": [],
      "authorship_tag": "ABX9TyOP5bon4R4sBLMcf/I7awjt",
      "include_colab_link": true
    },
    "kernelspec": {
      "name": "python3",
      "display_name": "Python 3"
    },
    "language_info": {
      "name": "python"
    }
  },
  "cells": [
    {
      "cell_type": "markdown",
      "metadata": {
        "id": "view-in-github",
        "colab_type": "text"
      },
      "source": [
        "<a href=\"https://colab.research.google.com/github/RafsanJany-44/Angular_Stuff/blob/main/Bracu_01022022.ipynb\" target=\"_parent\"><img src=\"https://colab.research.google.com/assets/colab-badge.svg\" alt=\"Open In Colab\"/></a>"
      ]
    },
    {
      "cell_type": "code",
      "execution_count": 3,
      "metadata": {
        "colab": {
          "base_uri": "https://localhost:8080/"
        },
        "id": "FoGmFDVT2Vsm",
        "outputId": "69c33d68-e1fa-4865-b9f6-554ccc758330"
      },
      "outputs": [
        {
          "output_type": "stream",
          "name": "stdout",
          "text": [
            "HOusE\n",
            "ApplE\n",
            "BaNaNa\n",
            "HOUSE\n",
            "apple\n",
            "banana\n"
          ]
        }
      ],
      "source": [
        "t=[]\n",
        "for i in range(3):\n",
        "  t.append(input())\n",
        "\n",
        "for s1 in t:\n",
        "  count1=0\n",
        "  count2=0\n",
        "  for i in s1:\n",
        "    if 65<=ord(i)<=90:\n",
        "      count1+=1\n",
        "    else:\n",
        "      count2+=1\n",
        "  if count1>count2:\n",
        "    print(s1.upper())\n",
        "  else:\n",
        "    print(s1.lower())"
      ]
    },
    {
      "cell_type": "code",
      "source": [
        "t=[]\n",
        "for i in range(3):\n",
        "  t.append(input())\n",
        "\n",
        "\n",
        "for s in t:\n",
        "  num=False\n",
        "  alp=False\n",
        "\n",
        "  for i in s:\n",
        "    if 65<=ord(i)<=90 or 97<=ord(i)<=122:\n",
        "      alp=True\n",
        "    else:\n",
        "      num=True\n",
        "    if alp == True and num == True:\n",
        "      break\n",
        "  if alp==True and num==False:\n",
        "    print(\"WORD\")\n",
        "  elif alp==False and num==True:\n",
        "    print(\"NUMBER\")\n",
        "  else:\n",
        "    print(\"MIXED\")"
      ],
      "metadata": {
        "colab": {
          "base_uri": "https://localhost:8080/"
        },
        "id": "Q3A0ep1X7zey",
        "outputId": "39e95d19-8275-493d-f49f-df92b7d886ae"
      },
      "execution_count": 10,
      "outputs": [
        {
          "output_type": "stream",
          "name": "stdout",
          "text": [
            "hekllp\n",
            "12312\n",
            "asdfas34343\n",
            "WORD\n",
            "NUMBER\n",
            "MIXED\n"
          ]
        }
      ]
    },
    {
      "cell_type": "code",
      "source": [
        ""
      ],
      "metadata": {
        "id": "6mUhHwSE-8LG"
      },
      "execution_count": null,
      "outputs": []
    },
    {
      "cell_type": "code",
      "source": [
        "\n",
        "t=[]\n",
        "for i in range(2):\n",
        "  t.append(input())\n",
        "\n",
        "for s in t:\n",
        "  res=\"\"\n",
        "  for i in range(len(s)-1):\n",
        "    if 65<=ord(s[i])<=90:\n",
        "      j=i\n",
        "      while(True):\n",
        "        if 65<=ord(s[j+1])<=90:\n",
        "            break\n",
        "        res=res+s[j+1]\n",
        "        j+=1\n",
        "          \n",
        "      break\n",
        "\n",
        "  if res!=\"\":\n",
        "    print(res)\n",
        "  else:\n",
        "    print(\"BLANK\")\n"
      ],
      "metadata": {
        "colab": {
          "base_uri": "https://localhost:8080/"
        },
        "id": "BI5JhF7ZSZtv",
        "outputId": "55e48039-52d3-4226-d361-000050dff51e"
      },
      "execution_count": 14,
      "outputs": [
        {
          "output_type": "stream",
          "name": "stdout",
          "text": [
            "baNgladEngj\n",
            "coDIng\n",
            "glad\n",
            "BLANK\n"
          ]
        }
      ]
    },
    {
      "cell_type": "code",
      "source": [
        ""
      ],
      "metadata": {
        "id": "bFHJ8VoPUhbu"
      },
      "execution_count": null,
      "outputs": []
    }
  ]
}